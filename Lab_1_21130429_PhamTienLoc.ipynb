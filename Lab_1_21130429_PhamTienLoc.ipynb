{
  "nbformat": 4,
  "nbformat_minor": 0,
  "metadata": {
    "colab": {
      "provenance": [],
      "include_colab_link": true
    },
    "kernelspec": {
      "name": "python3",
      "display_name": "Python 3"
    },
    "language_info": {
      "name": "python"
    }
  },
  "cells": [
    {
      "cell_type": "markdown",
      "metadata": {
        "id": "view-in-github",
        "colab_type": "text"
      },
      "source": [
        "<a href=\"https://colab.research.google.com/github/PhamTienLoc/Lab_DM/blob/main/Lab_1_21130429_PhamTienLoc.ipynb\" target=\"_parent\"><img src=\"https://colab.research.google.com/assets/colab-badge.svg\" alt=\"Open In Colab\"/></a>"
      ]
    },
    {
      "cell_type": "markdown",
      "source": [
        "# DM Lab 1: Introduction to Python:\n",
        "# 21130429 - Phạm Tiến Lộc\n",
        "\n",
        "\n",
        "---\n",
        "\n"
      ],
      "metadata": {
        "id": "h1XHELazwf6u"
      }
    },
    {
      "cell_type": "markdown",
      "source": [
        "# Import libraries"
      ],
      "metadata": {
        "id": "ejzrmDfnmjgy"
      }
    },
    {
      "cell_type": "code",
      "source": [
        "import numpy as np\n",
        "import pandas as pd"
      ],
      "metadata": {
        "id": "HHBLzlS2mmBI"
      },
      "execution_count": 1,
      "outputs": []
    },
    {
      "cell_type": "code",
      "source": [
        "from google.colab import drive\n",
        "drive.mount('/content/gdrive')\n",
        "%cd '/content/gdrive/MyDrive/Colab Notebooks/DM_Labs'"
      ],
      "metadata": {
        "colab": {
          "base_uri": "https://localhost:8080/"
        },
        "id": "I1Dyexp3RhmD",
        "outputId": "4b8e9710-f527-45fe-d00f-4200585be7ce"
      },
      "execution_count": null,
      "outputs": [
        {
          "output_type": "stream",
          "name": "stdout",
          "text": [
            "Mounted at /content/gdrive\n",
            "/content/gdrive/MyDrive/Colab Notebooks/DM_Labs\n"
          ]
        }
      ]
    },
    {
      "cell_type": "markdown",
      "source": [
        "#Task 1. Introduction to Python"
      ],
      "metadata": {
        "id": "L2yar5plmNPw"
      }
    },
    {
      "cell_type": "markdown",
      "source": [
        "#1.1. Implement Python functions as follows:\n",
        "1.   S(n)=1 - 2 + 3 - 4+ … + ((-1)(n + 1)).n , \t\tn>0\n",
        "2.   S(n)=1 ^ 2 + 2^2 + 3^2 + ... + n^2 , \t\t\tn>0\n"
      ],
      "metadata": {
        "id": "dbC_i1ehylWR"
      }
    },
    {
      "cell_type": "code",
      "source": [
        "#code"
      ],
      "metadata": {
        "id": "6an2T5_ymV3d"
      },
      "execution_count": null,
      "outputs": []
    },
    {
      "cell_type": "markdown",
      "source": [
        "#1.2. For a given class diagram (in Java) as follows:\n",
        "![image.png](data:image/png;base64,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)"
      ],
      "metadata": {
        "id": "z5yEf45e6U7e"
      }
    },
    {
      "cell_type": "markdown",
      "source": [
        "Implements the following methods:\n",
        "\n",
        "\n",
        "1.   Count the number of employees having birthYear equals to a given year\n",
        "2.   Find the employee with highest age\n",
        "3.   Summary employees by birth years. Report results as a dictionary structure."
      ],
      "metadata": {
        "id": "GLseordB6a83"
      }
    },
    {
      "cell_type": "code",
      "source": [
        "#code"
      ],
      "metadata": {
        "id": "j5PcemVi7Zi_"
      },
      "execution_count": null,
      "outputs": []
    },
    {
      "cell_type": "markdown",
      "source": [
        "#Task 2. NumPy"
      ],
      "metadata": {
        "id": "ImQITPJFmWPa"
      }
    },
    {
      "cell_type": "markdown",
      "source": [
        "#2.1. Generate a numpy array with 100 integer values from 1 to 20  without using any loop."
      ],
      "metadata": {
        "id": "fnRXO-1Us4Zw"
      }
    },
    {
      "cell_type": "code",
      "source": [
        "#code"
      ],
      "metadata": {
        "id": "0jZRe3NsmZym"
      },
      "execution_count": null,
      "outputs": []
    },
    {
      "cell_type": "markdown",
      "source": [
        "#2.2. Replace all elements of the array generated in 2.1. that are greater than a specified value (***v***) by ***v***"
      ],
      "metadata": {
        "id": "baPWwL-itjzL"
      }
    },
    {
      "cell_type": "code",
      "source": [
        "#code"
      ],
      "metadata": {
        "id": "Z_ebbqK8t4IE"
      },
      "execution_count": null,
      "outputs": []
    },
    {
      "cell_type": "markdown",
      "source": [
        "#2.3. Find the most frequent value in the array obtained from Task 2.2"
      ],
      "metadata": {
        "id": "pGV72R25w74-"
      }
    },
    {
      "cell_type": "code",
      "source": [
        "#code"
      ],
      "metadata": {
        "id": "MCur6DGbxGgh"
      },
      "execution_count": null,
      "outputs": []
    },
    {
      "cell_type": "markdown",
      "source": [
        "#Task 3. Pandas"
      ],
      "metadata": {
        "id": "yPvZlI5FmaHY"
      }
    },
    {
      "cell_type": "code",
      "source": [
        "#load dataset using pd.read_csv(...)"
      ],
      "metadata": {
        "id": "4C4eQpHaRTu2"
      },
      "execution_count": null,
      "outputs": []
    },
    {
      "cell_type": "markdown",
      "source": [
        "#3.1 List all **continents** in the dataset"
      ],
      "metadata": {
        "id": "I2R6C0NToErF"
      }
    },
    {
      "cell_type": "code",
      "source": [
        "#code"
      ],
      "metadata": {
        "id": "Yf4s3T_xoJnf"
      },
      "execution_count": null,
      "outputs": []
    },
    {
      "cell_type": "markdown",
      "source": [
        "# 3.2. Get 10 countries that have highest **life_expectancy** as a dataframe."
      ],
      "metadata": {
        "id": "5MmqRm4UnWeC"
      }
    },
    {
      "cell_type": "code",
      "source": [
        "#code"
      ],
      "metadata": {
        "id": "04tiXbxGnrlo"
      },
      "execution_count": null,
      "outputs": []
    },
    {
      "cell_type": "markdown",
      "source": [
        "#3.3. Get 10 countries with the highest **GDP per capita**, among the countries with **population** greater than 100 million as a dataframe"
      ],
      "metadata": {
        "id": "5ouw7rnWnskJ"
      }
    },
    {
      "cell_type": "code",
      "source": [
        "#code"
      ],
      "metadata": {
        "id": "1dgd2mIIo2fg"
      },
      "execution_count": null,
      "outputs": []
    },
    {
      "cell_type": "markdown",
      "source": [
        "#3.4. Report the the number countries in each continent as a dataframe"
      ],
      "metadata": {
        "id": "qWNZiLYAo3Ns"
      }
    },
    {
      "cell_type": "code",
      "source": [
        "#code"
      ],
      "metadata": {
        "id": "nAL_wzLApXP7"
      },
      "execution_count": null,
      "outputs": []
    },
    {
      "cell_type": "markdown",
      "source": [
        "#3.5. Report the total population of each continent"
      ],
      "metadata": {
        "id": "CLz8PBwap8E2"
      }
    },
    {
      "cell_type": "code",
      "source": [
        "#code"
      ],
      "metadata": {
        "id": "ls-D93HGp53a"
      },
      "execution_count": null,
      "outputs": []
    }
  ]
}