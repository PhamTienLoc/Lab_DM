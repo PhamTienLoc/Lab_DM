{
  "nbformat": 4,
  "nbformat_minor": 0,
  "metadata": {
    "colab": {
      "provenance": [],
      "include_colab_link": true
    },
    "kernelspec": {
      "name": "python3",
      "display_name": "Python 3"
    },
    "language_info": {
      "name": "python"
    }
  },
  "cells": [
    {
      "cell_type": "markdown",
      "metadata": {
        "id": "view-in-github",
        "colab_type": "text"
      },
      "source": [
        "<a href=\"https://colab.research.google.com/github/PhamTienLoc/Lab_DM/blob/main/Lab_5_21130429_PhamTienLoc.ipynb\" target=\"_parent\"><img src=\"https://colab.research.google.com/assets/colab-badge.svg\" alt=\"Open In Colab\"/></a>"
      ]
    },
    {
      "cell_type": "markdown",
      "source": [
        "# DM Lab 5: Regression\n",
        "# 21130429 - Phạm Tiến Lộc\n"
      ],
      "metadata": {
        "id": "YCWKKH888WZm"
      }
    },
    {
      "cell_type": "markdown",
      "source": [
        "# Regression\n",
        "\n",
        "- Classification predicts a **categorical** value\n",
        "    - a finite set of values\n",
        "- Regression predicts a **numerical** value\n",
        "    - a possibly infinite set of values\n",
        "    - can be interpolating or extrapolating"
      ],
      "metadata": {
        "id": "JsyHueHk9VZU"
      }
    },
    {
      "cell_type": "markdown",
      "source": [
        "## Regression Estimators\n",
        "\n",
        "Regression estimators work in the same way as classification estimators in scikit-learn:\n",
        "\n",
        "Linear Regression Models:\n",
        "- [LinearRegression](https://scikit-learn.org/stable/modules/generated/sklearn.linear_model.LinearRegression.html)\n",
        "- [Ridge](https://scikit-learn.org/stable/modules/generated/sklearn.linear_model.Ridge.html#sklearn.linear_model.Ridge)\n",
        "\n",
        "K-Nearest Neighbor Regression:\n",
        "- [KNeighborsRegressor](https://scikit-learn.org/stable/modules/generated/sklearn.neighbors.KNeighborsRegressor.html)\n",
        "\n",
        "Decision Tree Regression:\n",
        "- [DecisionTreeRegressor](https://scikit-learn.org/stable/modules/generated/sklearn.tree.DecisionTreeRegressor.html)\n",
        "\n",
        "Neural Network Regression:\n",
        "- [MLPRegressor](https://scikit-learn.org/stable/modules/generated/sklearn.neural_network.MLPRegressor.html)"
      ],
      "metadata": {
        "id": "dPTpbO0o9b68"
      }
    },
    {
      "cell_type": "code",
      "execution_count": 2,
      "metadata": {
        "id": "GhiCcK2I55rC",
        "colab": {
          "base_uri": "https://localhost:8080/"
        },
        "outputId": "2e43c798-0958-44d0-ecbf-05c7788e9461"
      },
      "outputs": [
        {
          "output_type": "stream",
          "name": "stdout",
          "text": [
            "Mounted at /content/gdrive\n",
            "/content/gdrive/MyDrive/data\n"
          ]
        }
      ],
      "source": [
        "from google.colab import drive\n",
        "drive.mount('/content/gdrive')\n",
        "%cd '/content/gdrive/MyDrive/data'"
      ]
    },
    {
      "cell_type": "markdown",
      "source": [
        "#Import libraries"
      ],
      "metadata": {
        "id": "XGb7H-fc8g2q"
      }
    },
    {
      "cell_type": "code",
      "source": [
        "import pandas as pd\n",
        "import matplotlib.pyplot as plt\n",
        "import itertools\n",
        "from sklearn.model_selection import train_test_split\n",
        "from sklearn.linear_model import LinearRegression\n",
        "from sklearn.preprocessing import PolynomialFeatures\n",
        "from sklearn.linear_model import Ridge\n",
        "from sklearn.neighbors import KNeighborsRegressor\n",
        "from sklearn.tree import DecisionTreeRegressor\n",
        "from sklearn.neural_network import MLPRegressor\n",
        "from sklearn.model_selection import GridSearchCV\n",
        "from sklearn.feature_selection import RFECV\n",
        "from sklearn.preprocessing import StandardScaler\n",
        "from sklearn.model_selection import cross_val_predict\n",
        "from sklearn.metrics import mean_squared_error, r2_score\n",
        "from sklearn.feature_selection import SelectKBest, SelectFwe\n",
        "from sklearn.feature_selection import f_regression\n"
      ],
      "metadata": {
        "id": "6xGzxw068ilY"
      },
      "execution_count": 3,
      "outputs": []
    },
    {
      "cell_type": "markdown",
      "source": [
        "#Task 1. With **dataset1**"
      ],
      "metadata": {
        "id": "Ma4tVzj4-CmY"
      }
    },
    {
      "cell_type": "markdown",
      "source": [
        "#Task 1.1. Load **dataset1** using Pandas and split 70% for training set and 30% for test set"
      ],
      "metadata": {
        "id": "TS5lfpufBx9Q"
      }
    },
    {
      "cell_type": "code",
      "source": [
        "#code"
      ],
      "metadata": {
        "id": "1mUhdcS9AXMN"
      },
      "execution_count": null,
      "outputs": []
    },
    {
      "cell_type": "markdown",
      "source": [
        "#Task 1.2. Generate plots to determine the relationship between each combination as belows (i.e., between age and temp, between age and weight, ...)"
      ],
      "metadata": {
        "id": "KqAe7wh7B4AY"
      }
    },
    {
      "cell_type": "code",
      "source": [
        "#code\n",
        "# a list of all columns\n",
        "features = [ 'age', 'temp', 'weight', 'length' ]\n",
        "\n",
        "# generate all combinations of considered columns\n",
        "combinations = itertools.combinations(features, 2)\n",
        "for com in combinations:\n",
        "  print(com[0], com[1])"
      ],
      "metadata": {
        "colab": {
          "base_uri": "https://localhost:8080/"
        },
        "id": "14dZvWZjB3nO",
        "outputId": "97d5c7f9-c888-46bf-d1c7-afaf51a47f26"
      },
      "execution_count": null,
      "outputs": [
        {
          "output_type": "stream",
          "name": "stdout",
          "text": [
            "age temp\n",
            "age weight\n",
            "age length\n",
            "temp weight\n",
            "temp length\n",
            "weight length\n"
          ]
        }
      ]
    },
    {
      "cell_type": "code",
      "source": [
        "#code"
      ],
      "metadata": {
        "id": "lQsCST-cHpyg"
      },
      "execution_count": null,
      "outputs": []
    },
    {
      "cell_type": "markdown",
      "source": [
        "#Task 1.3. Apply LinearRegression to which combinations that have linear relationship."
      ],
      "metadata": {
        "id": "2djBXyMmEBRk"
      }
    },
    {
      "cell_type": "code",
      "source": [
        "#code"
      ],
      "metadata": {
        "id": "sJNMkARYGV69"
      },
      "execution_count": null,
      "outputs": []
    },
    {
      "cell_type": "markdown",
      "source": [
        "#Task 1.4. Plot train/test/prediction to visualize the relationship between them"
      ],
      "metadata": {
        "id": "H_sJ2Gw6G_UR"
      }
    },
    {
      "cell_type": "code",
      "source": [
        "#code"
      ],
      "metadata": {
        "id": "kJyJrD57G_Cg"
      },
      "execution_count": null,
      "outputs": []
    },
    {
      "cell_type": "markdown",
      "source": [
        "#Task 1.5. Apply Polynomial regression to which combinations that have non-linear relationship"
      ],
      "metadata": {
        "id": "JqNjfWN8GYca"
      }
    },
    {
      "cell_type": "code",
      "source": [
        "#code"
      ],
      "metadata": {
        "id": "uq6AhHEzGXhl"
      },
      "execution_count": null,
      "outputs": []
    },
    {
      "cell_type": "markdown",
      "source": [
        "#Task 1.6. Plot train/test/prediction to visualize the relationship between them"
      ],
      "metadata": {
        "id": "MW6uDX54Hupg"
      }
    },
    {
      "cell_type": "code",
      "source": [
        "#code"
      ],
      "metadata": {
        "id": "X6FMESTzHyE9"
      },
      "execution_count": null,
      "outputs": []
    },
    {
      "cell_type": "markdown",
      "source": [
        "#Task 1.7. Measure the performance of the different regression models trained before. Use 10-fold cross validation and RMSE as well as R² for evaluation."
      ],
      "metadata": {
        "id": "WGApw69OFPtu"
      }
    },
    {
      "cell_type": "code",
      "source": [
        "#code"
      ],
      "metadata": {
        "id": "H92My-fGHzrE"
      },
      "execution_count": null,
      "outputs": []
    },
    {
      "cell_type": "markdown",
      "source": [
        "##Task 1.8. Apply GridSeachCV to find the influence of **k** on performance of **KNeighborsRegressor**"
      ],
      "metadata": {
        "id": "mjEH2W3WTp9u"
      }
    },
    {
      "cell_type": "code",
      "source": [
        "#code"
      ],
      "metadata": {
        "id": "jVVUYIz-TrT0"
      },
      "execution_count": null,
      "outputs": []
    },
    {
      "cell_type": "markdown",
      "source": [
        "#Task 2. With dataset2"
      ],
      "metadata": {
        "id": "AVBR3djJ-F82"
      }
    },
    {
      "cell_type": "markdown",
      "source": [
        "#Task 2.1. Load **dataset2**, apply StandardScaler() to standardize datataset and repare trainning set, test set. Notice that, y is **Birthweigth** column; **id** column needs to drop."
      ],
      "metadata": {
        "id": "eoAt1fUAQKc4"
      }
    },
    {
      "cell_type": "code",
      "source": [
        "#code"
      ],
      "metadata": {
        "id": "elJ6hiDrAYhx"
      },
      "execution_count": null,
      "outputs": []
    },
    {
      "cell_type": "markdown",
      "source": [
        "#Task 2.2. Apply Linear Regression to the training set/test set obtained in Task 2.1. Report the perfomrance of the model on test set in termns of RMSE, R^2"
      ],
      "metadata": {
        "id": "nHghW4FMRkys"
      }
    },
    {
      "cell_type": "code",
      "source": [
        "#code"
      ],
      "metadata": {
        "id": "MSU-nbd0RE39"
      },
      "execution_count": null,
      "outputs": []
    },
    {
      "cell_type": "markdown",
      "source": [
        "#Task 2.3. Apply feature selection to find the most correlated feature to the target (y) using F-Regression and inspect the p-values for each feature.\n",
        "\n",
        "\n",
        "*   Then, fit a second regression model using only the significant features (p<=0.05). How does the performance (i.e., RMSE, R^2) of the model change?\n",
        "\n"
      ],
      "metadata": {
        "id": "Lcm4rE7tSXIX"
      }
    },
    {
      "cell_type": "code",
      "source": [
        "#code"
      ],
      "metadata": {
        "id": "DjAe3AD4RF_5"
      },
      "execution_count": null,
      "outputs": []
    },
    {
      "cell_type": "markdown",
      "source": [
        "#Task 3. With **dataset3**\n",
        "The dataset3 included 12 continuous attributes and 1 binary attribute concerning the price of houses."
      ],
      "metadata": {
        "id": "AoCAqYd6-IUK"
      }
    },
    {
      "cell_type": "markdown",
      "source": [
        "#Task 3.1. Load **dataset3**, apply StandardScaler() to standardize datataset and repare trainning set, test set"
      ],
      "metadata": {
        "id": "F3sEF9lnOJu8"
      }
    },
    {
      "cell_type": "code",
      "source": [
        "#code"
      ],
      "metadata": {
        "id": "MSYJD4MJAab-"
      },
      "execution_count": null,
      "outputs": []
    },
    {
      "cell_type": "markdown",
      "source": [
        "#Task 3.2. Apply **LinearRegression**, **Ridge**, **KNeighborsRegressor**, **DecisionTreeRegressor**, **MLPRegressor** to train models using above training set"
      ],
      "metadata": {
        "id": "vQbD54QyOQqe"
      }
    },
    {
      "cell_type": "code",
      "source": [
        "#code"
      ],
      "metadata": {
        "id": "xdgzSCujOSQc"
      },
      "execution_count": null,
      "outputs": []
    },
    {
      "cell_type": "markdown",
      "source": [
        "#Task 3.3. Report the performance of models using metrics RMSE, R^2 (as PrettyTable)"
      ],
      "metadata": {
        "id": "q5Yk6Nu4PJIk"
      }
    },
    {
      "cell_type": "code",
      "source": [
        "#code"
      ],
      "metadata": {
        "id": "jtUN3N9cPrfY"
      },
      "execution_count": null,
      "outputs": []
    },
    {
      "cell_type": "code",
      "source": [
        "#Pretty table demo\n",
        "from prettytable import PrettyTable\n",
        "\n",
        "# Specify the Column Names while initializing the Table\n",
        "myTable = PrettyTable([\"Student Name\", \"Class\", \"Section\", \"Percentage\"])\n",
        "\n",
        "# Add rows\n",
        "myTable.add_row([\"Leanord\", \"X\", \"B\", \"91.2 %\"])\n",
        "myTable.add_row([\"Penny\", \"X\", \"C\", \"63.5 %\"])\n",
        "myTable.add_row([\"Howard\", \"X\", \"A\", \"90.23 %\"])\n",
        "myTable.add_row([\"Bernadette\", \"X\", \"D\", \"92.7 %\"])\n",
        "myTable.add_row([\"Sheldon\", \"X\", \"A\", \"98.2 %\"])\n",
        "myTable.add_row([\"Raj\", \"X\", \"B\", \"88.1 %\"])\n",
        "myTable.add_row([\"Amy\", \"X\", \"B\", \"95.0 %\"])\n",
        "\n",
        "print(myTable)"
      ],
      "metadata": {
        "colab": {
          "base_uri": "https://localhost:8080/"
        },
        "id": "PE4hgUq9Ps47",
        "outputId": "b4f4947c-00fd-47cd-9d3e-042d49c3bc0c"
      },
      "execution_count": null,
      "outputs": [
        {
          "output_type": "stream",
          "name": "stdout",
          "text": [
            "+--------------+-------+---------+------------+\n",
            "| Student Name | Class | Section | Percentage |\n",
            "+--------------+-------+---------+------------+\n",
            "|   Leanord    |   X   |    B    |   91.2 %   |\n",
            "|    Penny     |   X   |    C    |   63.5 %   |\n",
            "|    Howard    |   X   |    A    |  90.23 %   |\n",
            "|  Bernadette  |   X   |    D    |   92.7 %   |\n",
            "|   Sheldon    |   X   |    A    |   98.2 %   |\n",
            "|     Raj      |   X   |    B    |   88.1 %   |\n",
            "|     Amy      |   X   |    B    |   95.0 %   |\n",
            "+--------------+-------+---------+------------+\n"
          ]
        }
      ]
    }
  ]
}