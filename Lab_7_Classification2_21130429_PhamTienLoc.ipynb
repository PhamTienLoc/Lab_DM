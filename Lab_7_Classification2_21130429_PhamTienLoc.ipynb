{
  "nbformat": 4,
  "nbformat_minor": 0,
  "metadata": {
    "colab": {
      "provenance": [],
      "include_colab_link": true
    },
    "kernelspec": {
      "name": "python3",
      "display_name": "Python 3"
    },
    "language_info": {
      "name": "python"
    }
  },
  "cells": [
    {
      "cell_type": "markdown",
      "metadata": {
        "id": "view-in-github",
        "colab_type": "text"
      },
      "source": [
        "<a href=\"https://colab.research.google.com/github/PhamTienLoc/Lab_DM/blob/main/Lab_7_Classification2_21130429_PhamTienLoc.ipynb\" target=\"_parent\"><img src=\"https://colab.research.google.com/assets/colab-badge.svg\" alt=\"Open In Colab\"/></a>"
      ]
    },
    {
      "cell_type": "markdown",
      "source": [
        "# DM Lab 7: Classification2\n",
        "# MSSV - Họ tên\n"
      ],
      "metadata": {
        "id": "ZkZ28oqe-cF0"
      }
    },
    {
      "cell_type": "code",
      "execution_count": 1,
      "metadata": {
        "id": "qC-FNAE591gc",
        "colab": {
          "base_uri": "https://localhost:8080/"
        },
        "outputId": "b751ab3d-2acd-4fee-93ca-25210d254526"
      },
      "outputs": [
        {
          "output_type": "stream",
          "name": "stdout",
          "text": [
            "Mounted at /content/gdrive\n",
            "/content/gdrive/MyDrive/data\n"
          ]
        }
      ],
      "source": [
        "from google.colab import drive\n",
        "drive.mount('/content/gdrive')\n",
        "%cd '/content/gdrive/MyDrive/data'"
      ]
    },
    {
      "cell_type": "markdown",
      "source": [
        "#Import libraries"
      ],
      "metadata": {
        "id": "lZbZ-zsi-kmJ"
      }
    },
    {
      "cell_type": "code",
      "source": [
        "import pandas as pd\n",
        "import numpy as np\n",
        "from sklearn import preprocessing\n",
        "from sklearn.tree import DecisionTreeClassifier\n",
        "from sklearn.neighbors import KNeighborsClassifier\n",
        "from sklearn.naive_bayes import GaussianNB\n",
        "from sklearn import tree\n",
        "from sklearn.model_selection import cross_val_score\n",
        "from imblearn.pipeline import Pipeline\n",
        "from sklearn.preprocessing import LabelEncoder\n",
        "from sklearn.feature_extraction.text import TfidfVectorizer\n",
        "from sklearn.model_selection import train_test_split\n",
        "import nltk\n",
        "from nltk.corpus import stopwords\n",
        "from nltk.tokenize import word_tokenize\n",
        "from nltk.stem import WordNetLemmatizer\n",
        "import string\n",
        "from sklearn.metrics import confusion_matrix, accuracy_score, precision_score, recall_score, f1_score, roc_curve, auc\n",
        "import matplotlib.pyplot as plt\n",
        "from sklearn.datasets import make_classification\n",
        "from sklearn.metrics import confusion_matrix, ConfusionMatrixDisplay\n",
        "from sklearn.preprocessing import label_binarize"
      ],
      "metadata": {
        "id": "5PSJoPGY-rXi"
      },
      "execution_count": 32,
      "outputs": []
    },
    {
      "cell_type": "code",
      "source": [
        "nltk.download(\"punkt\")\n",
        "nltk.download('punkt_tab')\n",
        "nltk.download(\"stopwords\")\n",
        "nltk.download(\"wordnet\")"
      ],
      "metadata": {
        "colab": {
          "base_uri": "https://localhost:8080/"
        },
        "id": "-6SF5xZtpgTL",
        "outputId": "09c5d529-9c1b-4cca-9385-a2cb158f71bc"
      },
      "execution_count": 3,
      "outputs": [
        {
          "output_type": "stream",
          "name": "stderr",
          "text": [
            "[nltk_data] Downloading package punkt to /root/nltk_data...\n",
            "[nltk_data]   Unzipping tokenizers/punkt.zip.\n",
            "[nltk_data] Downloading package punkt_tab to /root/nltk_data...\n",
            "[nltk_data]   Unzipping tokenizers/punkt_tab.zip.\n",
            "[nltk_data] Downloading package stopwords to /root/nltk_data...\n",
            "[nltk_data]   Unzipping corpora/stopwords.zip.\n",
            "[nltk_data] Downloading package wordnet to /root/nltk_data...\n"
          ]
        },
        {
          "output_type": "execute_result",
          "data": {
            "text/plain": [
              "True"
            ]
          },
          "metadata": {},
          "execution_count": 3
        }
      ]
    },
    {
      "cell_type": "markdown",
      "source": [
        "#**Task 1.** The dataset1 includes 2 columns: data and labels (5 labels: business, entertainment, politics, sport, tech)."
      ],
      "metadata": {
        "id": "Ol-Nurp3Av40"
      }
    },
    {
      "cell_type": "markdown",
      "source": [
        "#Task 1.1. Load and remove duplicates in the dataset1."
      ],
      "metadata": {
        "id": "o7gvAW-lO1Q1"
      }
    },
    {
      "cell_type": "code",
      "source": [
        "#code\n",
        "dataset1 = pd.read_csv(\"dataset1.csv\")"
      ],
      "metadata": {
        "id": "71PYgnrxAyJ4"
      },
      "execution_count": 4,
      "outputs": []
    },
    {
      "cell_type": "code",
      "source": [
        "dataset1.duplicated().sum()"
      ],
      "metadata": {
        "colab": {
          "base_uri": "https://localhost:8080/"
        },
        "id": "6zMgP4mFmnik",
        "outputId": "9e8c90d1-774b-4f84-eb59-fa9082e19370"
      },
      "execution_count": 5,
      "outputs": [
        {
          "output_type": "execute_result",
          "data": {
            "text/plain": [
              "99"
            ]
          },
          "metadata": {},
          "execution_count": 5
        }
      ]
    },
    {
      "cell_type": "code",
      "source": [
        "dataset1.drop_duplicates(keep=\"first\", inplace=True)"
      ],
      "metadata": {
        "id": "JjT1kneYmqgD"
      },
      "execution_count": 6,
      "outputs": []
    },
    {
      "cell_type": "markdown",
      "source": [
        "#Task 1.2. Apply preprocessing techniques to the dataset1. ***Done by Black Nguyen***"
      ],
      "metadata": {
        "id": "a39mymExO_IM"
      }
    },
    {
      "cell_type": "code",
      "source": [
        "#code\n",
        "stop_words = set(stopwords.words(\"english\"))\n",
        "lemma = WordNetLemmatizer()"
      ],
      "metadata": {
        "id": "BLXc-QsBQtvO"
      },
      "execution_count": 7,
      "outputs": []
    },
    {
      "cell_type": "code",
      "source": [
        "def preprocessing(txt):\n",
        "    tokens = word_tokenize(txt)\n",
        "    words = [lemma.lemmatize(token) for token in tokens if token.isalpha() and token not in stop_words]\n",
        "    return \" \".join(words)"
      ],
      "metadata": {
        "id": "phjMO9Gmmyaz"
      },
      "execution_count": 8,
      "outputs": []
    },
    {
      "cell_type": "code",
      "source": [
        "txt = dataset1[\"data\"][0]\n",
        "txt"
      ],
      "metadata": {
        "colab": {
          "base_uri": "https://localhost:8080/",
          "height": 123
        },
        "id": "ZYVW-HAMm6Db",
        "outputId": "08bbbd6d-3b33-4771-ba93-ada96934a1c6"
      },
      "execution_count": 9,
      "outputs": [
        {
          "output_type": "execute_result",
          "data": {
            "text/plain": [
              "'Musicians to tackle US red tape  Musicians groups are to tackle US visa regulations which are blamed for hindering British acts chances of succeeding across the Atlantic.  A singer hoping to perform in the US can expect to pay $1,300 (xc2xa3680) simply for obtaining a visa. Groups including the Musicians Union are calling for an end to the \"raw deal\" faced by British performers. US acts are not faced with comparable expense and bureaucracy when visiting the UK for promotional purposes.  Nigel McCune from the Musicians Union said British musicians are \"disadvantaged\" compared to their US counterparts. A sponsor has to make a petition on their behalf, which is a form amounting to nearly 30 pages, while musicians face tougher regulations than athletes and journalists. \"If you make a mistake on your form, you risk a five-year ban and thus the ability to further your career,\" says Mr McCune.  \"The US is the worlds biggest music market, which means something has to be done about the creaky bureaucracy,\" says Mr McCune. \"The current situation is preventing British acts from maintaining momentum and developing in the US,\" he added.  The Musicians Union stance is being endorsed by the Music Managers Forum (MMF), who say British artists face \"an uphill struggle\" to succeed in the US, thanks to the tough visa requirements, which are also seen as impractical. The MMFs general secretary James Seller said: \"Imagine if you were an orchestra from the Orkneys? Every member would have to travel to London to have their visas processed.\"  \"The US market is seen as the holy grail and one of the benchmarks of success, and were still going to fight to get in there. \"Its still very important, but there are other markets like Europe, India and China,\" added Mr Seller. A Department for Media, Culture and Sport spokeswoman said: \"Were aware that people are experiencing problems, and are working with the US embassy and record industry to see what we can do about it.\" A US Embassy spokesman said: \"We are aware that entertainers require visas for time-specific visas and are doing everything we can to process those applications speedily.\" \"We are aware of the importance of cultural exchange and we will do our best to facilitate that,\" he added. '"
            ],
            "application/vnd.google.colaboratory.intrinsic+json": {
              "type": "string"
            }
          },
          "metadata": {},
          "execution_count": 9
        }
      ]
    },
    {
      "cell_type": "code",
      "source": [
        "txt2 = preprocessing(txt)\n",
        "txt2"
      ],
      "metadata": {
        "colab": {
          "base_uri": "https://localhost:8080/",
          "height": 123
        },
        "id": "6l7gbLCGm76t",
        "outputId": "72114dad-6fbc-49d6-c5ad-c467f34b286b"
      },
      "execution_count": 10,
      "outputs": [
        {
          "output_type": "execute_result",
          "data": {
            "text/plain": [
              "'Musicians tackle US red tape Musicians group tackle US visa regulation blamed hindering British act chance succeeding across Atlantic A singer hoping perform US expect pay simply obtaining visa Groups including Musicians Union calling end raw deal faced British performer US act faced comparable expense bureaucracy visiting UK promotional purpose Nigel McCune Musicians Union said British musician disadvantaged compared US counterpart A sponsor make petition behalf form amounting nearly page musician face tougher regulation athlete journalist If make mistake form risk ban thus ability career say Mr McCune The US world biggest music market mean something done creaky bureaucracy say Mr McCune The current situation preventing British act maintaining momentum developing US added The Musicians Union stance endorsed Music Managers Forum MMF say British artist face uphill struggle succeed US thanks tough visa requirement also seen impractical The MMFs general secretary James Seller said Imagine orchestra Orkneys Every member would travel London visa processed The US market seen holy grail one benchmark success still going fight get Its still important market like Europe India China added Mr Seller A Department Media Culture Sport spokeswoman said Were aware people experiencing problem working US embassy record industry see A US Embassy spokesman said We aware entertainer require visa visa everything process application speedily We aware importance cultural exchange best facilitate added'"
            ],
            "application/vnd.google.colaboratory.intrinsic+json": {
              "type": "string"
            }
          },
          "metadata": {},
          "execution_count": 10
        }
      ]
    },
    {
      "cell_type": "code",
      "source": [
        "dataset1[\"data\"] = dataset1[\"data\"].apply(preprocessing)"
      ],
      "metadata": {
        "id": "L0-pISc7oGzK"
      },
      "execution_count": 11,
      "outputs": []
    },
    {
      "cell_type": "code",
      "source": [
        "encoder=LabelEncoder()\n",
        "dataset1['labels']=encoder.fit_transform(dataset1['labels'])"
      ],
      "metadata": {
        "id": "XpEMJNpboGWU"
      },
      "execution_count": 12,
      "outputs": []
    },
    {
      "cell_type": "code",
      "source": [
        "X_train, X_test, y_train, y_test = train_test_split(dataset1[\"data\"], dataset1[\"labels\"], test_size=0.2, random_state=42)"
      ],
      "metadata": {
        "id": "E3nZtXFzoWVi"
      },
      "execution_count": 13,
      "outputs": []
    },
    {
      "cell_type": "code",
      "source": [
        "vectorizer = TfidfVectorizer()\n",
        "\n",
        "X_train_cv = vectorizer.fit_transform(X_train)\n",
        "X_test_cv = vectorizer.transform(X_test)"
      ],
      "metadata": {
        "id": "By1H5_7voTkm"
      },
      "execution_count": 14,
      "outputs": []
    },
    {
      "cell_type": "markdown",
      "source": [
        "#Task 1.3. Apply decision tree classifier to the preprocessed dataset"
      ],
      "metadata": {
        "id": "XLS0dLJusYOv"
      }
    },
    {
      "cell_type": "code",
      "source": [
        "#code\n",
        "dt_clf = tree.DecisionTreeClassifier(max_depth=2)\n",
        "dt_clf = dt_clf.fit(X_train_cv, y_train)\n",
        "dt_y_pred = dt_clf.predict(X_test_cv)"
      ],
      "metadata": {
        "id": "GgjutOZ3ICny"
      },
      "execution_count": 17,
      "outputs": []
    },
    {
      "cell_type": "markdown",
      "source": [
        "#Task 1.4. Plot decision tree using tree.plot_tree(clf)"
      ],
      "metadata": {
        "id": "sNfmhJcVRnC8"
      }
    },
    {
      "cell_type": "code",
      "source": [
        "#code\n",
        "tree.plot_tree(dt_clf, class_names=[\"business\", \"entertainment\", \"politics\", \"sport\", \"tech\"])\n",
        "plt.show()"
      ],
      "metadata": {
        "id": "qjIwwnwRR7WQ",
        "colab": {
          "base_uri": "https://localhost:8080/",
          "height": 406
        },
        "outputId": "8a81079d-d1ad-4b8d-c137-bbf3d8f12518"
      },
      "execution_count": 18,
      "outputs": [
        {
          "output_type": "display_data",
          "data": {
            "text/plain": [
              "<Figure size 640x480 with 1 Axes>"
            ],
            "image/png": "[encoded data removed]"
          },
          "metadata": {}
        }
      ]
    },
    {
      "cell_type": "markdown",
      "source": [
        "#Task 1.5. Report confusion matrix and the values of metrics (i.e., accuracy, precision, recall, f1, ...)"
      ],
      "metadata": {
        "id": "vSeIQaK8RVrv"
      }
    },
    {
      "cell_type": "code",
      "source": [
        "#code\n",
        "# Confusion Matrix\n",
        "cm = confusion_matrix(y_test, dt_y_pred)\n",
        "# Accuracy\n",
        "dt_accuracy = accuracy_score(y_test, dt_y_pred)\n",
        "# Precision\n",
        "dt_precision = precision_score(y_test, dt_y_pred, average='macro')\n",
        "# Recall\n",
        "dt_recall = recall_score(y_test, dt_y_pred, average='macro')\n",
        "# F1-Score\n",
        "dt_f1 = f1_score(y_test, dt_y_pred, average='macro')\n",
        "\n",
        "print('Confusion Matrix:')\n",
        "print(cm)\n",
        "print('Accuracy:', dt_accuracy)\n",
        "print('Precision:', dt_precision)\n",
        "print('Recall:', dt_recall)\n",
        "print('F1-Score:', dt_f1)"
      ],
      "metadata": {
        "id": "8k2nQmvzRg4q",
        "colab": {
          "base_uri": "https://localhost:8080/"
        },
        "outputId": "38c3d926-b840-4f98-938e-a832df62cc52"
      },
      "execution_count": 19,
      "outputs": [
        {
          "output_type": "stream",
          "name": "stdout",
          "text": [
            "Confusion Matrix:\n",
            "[[  1   0   1 102   4]\n",
            " [  0   0   0  73   1]\n",
            " [  0   0  36  43   1]\n",
            " [  0   0   0  91   0]\n",
            " [  0   0   1  38  34]]\n",
            "Accuracy: 0.38028169014084506\n",
            "Precision: 0.6119232519338692\n",
            "Recall: 0.3850025367833587\n",
            "F1-Score: 0.3291626282076622\n"
          ]
        },
        {
          "output_type": "stream",
          "name": "stderr",
          "text": [
            "/usr/local/lib/python3.10/dist-packages/sklearn/metrics/_classification.py:1531: UndefinedMetricWarning: Precision is ill-defined and being set to 0.0 in labels with no predicted samples. Use `zero_division` parameter to control this behavior.\n",
            "  _warn_prf(average, modifier, f\"{metric.capitalize()} is\", len(result))\n"
          ]
        }
      ]
    },
    {
      "cell_type": "markdown",
      "source": [
        "#Task 1.6. Apply KNN to the preprocessed dataset and evaluate the performance of the model using metrics as in Task 1.3"
      ],
      "metadata": {
        "id": "M3NA82d550Xx"
      }
    },
    {
      "cell_type": "code",
      "source": [
        "#code\n",
        "kNN_clf = KNeighborsClassifier(n_neighbors=5)\n",
        "kNN_clf.fit(X_train_cv, y_train)\n",
        "kNN_y_pred = kNN_clf.predict(X_test_cv)\n",
        "\n",
        "# Confusion Matrix\n",
        "cm = confusion_matrix(y_test, kNN_y_pred)\n",
        "# Accuracy\n",
        "kNN_accuracy = accuracy_score(y_test, kNN_y_pred)\n",
        "# Precision\n",
        "kNN_precision = precision_score(y_test, kNN_y_pred, average='macro')\n",
        "# Recall\n",
        "kNN_recall = recall_score(y_test, kNN_y_pred, average='macro')\n",
        "# F1-Score\n",
        "kNN_f1 = f1_score(y_test, kNN_y_pred, average='macro')\n",
        "\n",
        "print('Confusion Matrix:')\n",
        "print(cm)\n",
        "print('Accuracy:', kNN_accuracy)\n",
        "print('Precision:', kNN_precision)\n",
        "print('Recall:', kNN_recall)\n",
        "print('F1-Score:', kNN_f1)"
      ],
      "metadata": {
        "id": "Z0DD5BIh6F0Y",
        "colab": {
          "base_uri": "https://localhost:8080/"
        },
        "outputId": "cabfae80-9b2b-4be8-e2ee-25fea9418e04"
      },
      "execution_count": 20,
      "outputs": [
        {
          "output_type": "stream",
          "name": "stdout",
          "text": [
            "Confusion Matrix:\n",
            "[[94  1  7  0  6]\n",
            " [ 1 69  3  1  0]\n",
            " [ 0  0 79  1  0]\n",
            " [ 0  0  0 91  0]\n",
            " [ 2  1  1  0 69]]\n",
            "Accuracy: 0.9436619718309859\n",
            "Precision: 0.9434351104595278\n",
            "Recall: 0.9471016564509714\n",
            "F1-Score: 0.9439543881167329\n"
          ]
        }
      ]
    },
    {
      "cell_type": "markdown",
      "source": [
        "#Task 1.7. Apply Naive Bayes classifier to the preprocessed dataset\n",
        "Gaussian Naïve Bayes algorithm works with continuous attribute values, we made an assumption that the values associated with each class are distributed according to Gaussian or Normal distribution."
      ],
      "metadata": {
        "id": "lnAuD2xz0vnU"
      }
    },
    {
      "cell_type": "code",
      "source": [
        "#code\n",
        "gnb_clf = GaussianNB()\n",
        "gnb_clf.fit(X_train_cv.toarray(), y_train)\n",
        "gnb_y_pred = gnb_clf.predict(X_test_cv.toarray())\n",
        "\n",
        "# Confusion Matrix\n",
        "cm = confusion_matrix(y_test, gnb_y_pred)\n",
        "# Accuracy\n",
        "nb_accuracy = accuracy_score(y_test, gnb_y_pred)\n",
        "# Precision\n",
        "nb_precision = precision_score(y_test, gnb_y_pred, average='macro')\n",
        "# Recall\n",
        "nb_recall = recall_score(y_test, gnb_y_pred, average='macro')\n",
        "# F1-Score\n",
        "nb_f1 = f1_score(y_test, gnb_y_pred, average='macro')\n",
        "\n",
        "print('Confusion Matrix:')\n",
        "print(cm)\n",
        "print('Accuracy:', nb_accuracy)\n",
        "print('Precision:', nb_precision)\n",
        "print('Recall:', nb_recall)\n",
        "print('F1-Score:', nb_f1)"
      ],
      "metadata": {
        "id": "zYyWwXut06PG",
        "colab": {
          "base_uri": "https://localhost:8080/"
        },
        "outputId": "12f9e4fd-940b-4807-f63e-3359ae59c3ca"
      },
      "execution_count": 21,
      "outputs": [
        {
          "output_type": "stream",
          "name": "stdout",
          "text": [
            "Confusion Matrix:\n",
            "[[96  1  4  0  7]\n",
            " [ 3 67  0  0  4]\n",
            " [ 2  2 74  1  1]\n",
            " [ 0  0  0 91  0]\n",
            " [ 2  4  0  0 67]]\n",
            "Accuracy: 0.9272300469483568\n",
            "Precision: 0.9246787779360407\n",
            "Recall: 0.9274205026944753\n",
            "F1-Score: 0.9256362678588148\n"
          ]
        }
      ]
    },
    {
      "cell_type": "markdown",
      "source": [
        "#Task 1.8. Summary the performance (accuracy, precision, recall, f1) of 3 models (Decision Tree, kNN, Naive Bayes) using PrettyTable\n",
        "\n",
        "\n",
        "```\n",
        "from sklearn.naive_bayes import GaussianNB\n",
        "\n",
        "# instantiate the model\n",
        "gnb = GaussianNB()\n",
        "\n",
        "# fit the model\n",
        "gnb.fit(X_train, y_train)\n",
        "y_pred = gnb.predict(X_test)\n",
        "```\n",
        "\n"
      ],
      "metadata": {
        "id": "JKxLReIu08Xw"
      }
    },
    {
      "cell_type": "code",
      "source": [
        "#code\n",
        "from prettytable import PrettyTable\n",
        "\n",
        "myTable = PrettyTable([\"Model\", \"Accuracy\", \"Precision\", \"Recall\", \"F1-Score\"])\n",
        "\n",
        "myTable.add_row([\"Decision Tree\", dt_accuracy, dt_precision, dt_recall, dt_f1])\n",
        "myTable.add_row([\"KNN\", kNN_accuracy, kNN_precision, kNN_recall, kNN_f1])\n",
        "myTable.add_row([\"Naive Bayes\", nb_accuracy, nb_precision, nb_recall, nb_f1])\n",
        "\n",
        "print(myTable)"
      ],
      "metadata": {
        "id": "Q8w-q-IE07I8",
        "colab": {
          "base_uri": "https://localhost:8080/"
        },
        "outputId": "d4613437-d75f-4cd2-b3d4-01beb80671c8"
      },
      "execution_count": 22,
      "outputs": [
        {
          "output_type": "stream",
          "name": "stdout",
          "text": [
            "+---------------+---------------------+--------------------+--------------------+--------------------+\n",
            "|     Model     |       Accuracy      |     Precision      |       Recall       |      F1-Score      |\n",
            "+---------------+---------------------+--------------------+--------------------+--------------------+\n",
            "| Decision Tree | 0.38028169014084506 | 0.6119232519338692 | 0.3850025367833587 | 0.3291626282076622 |\n",
            "|      KNN      |  0.9436619718309859 | 0.9434351104595278 | 0.9471016564509714 | 0.9439543881167329 |\n",
            "|  Naive Bayes  |  0.9272300469483568 | 0.9246787779360407 | 0.9274205026944753 | 0.9256362678588148 |\n",
            "+---------------+---------------------+--------------------+--------------------+--------------------+\n"
          ]
        }
      ]
    },
    {
      "cell_type": "markdown",
      "source": [
        "#Task 1.9. Plot ROC curve and report the AUC values for classification results on test set in Task 1.3, Task 1.6 and Task 1.7."
      ],
      "metadata": {
        "id": "SR02f84vIMoh"
      }
    },
    {
      "cell_type": "code",
      "source": [
        "#code\n",
        "class_feature_values = np.unique(y_test)\n",
        "y_test_bin = label_binarize(y_test, classes=class_feature_values)\n",
        "\n",
        "# Decision Tree\n",
        "dt_y_proba = dt_clf.predict_proba(X_test_cv)\n",
        "\n",
        "dt_fpr = {}\n",
        "dt_tpr = {}\n",
        "dt_roc_auc = {}\n",
        "for i in range(len(class_feature_values)):\n",
        "    dt_fpr[i], dt_tpr[i], _ = roc_curve(y_test_bin[:, i], dt_y_proba[:, i])\n",
        "    dt_roc_auc[i] = auc(dt_fpr[i], dt_tpr[i])\n",
        "\n",
        "dt_fpr_micro, dt_tpr_micro, _ = roc_curve(y_test_bin.ravel(), dt_y_proba.ravel())\n",
        "dt_roc_auc_micro = auc(dt_fpr_micro, dt_tpr_micro)\n",
        "\n",
        "# kNN\n",
        "kNN_y_proba = kNN_clf.predict_proba(X_test_cv)\n",
        "\n",
        "kNN_fpr = {}\n",
        "kNN_tpr = {}\n",
        "kNN_roc_auc = {}\n",
        "for i in range(len(class_feature_values)):\n",
        "    kNN_fpr[i], kNN_tpr[i], _ = roc_curve(y_test_bin[:, i], kNN_y_proba[:, i])\n",
        "    kNN_roc_auc[i] = auc(kNN_fpr[i], kNN_tpr[i])\n",
        "\n",
        "kNN_fpr_micro, kNN_tpr_micro, _ = roc_curve(y_test_bin.ravel(), kNN_y_proba.ravel())\n",
        "kNN_roc_auc_micro = auc(kNN_fpr_micro, kNN_tpr_micro)\n",
        "\n",
        "# Naive Bayes\n",
        "\n",
        "gnb_y_proba = gnb_clf.predict_proba(X_test_cv.toarray())\n",
        "\n",
        "gnb_fpr = {}\n",
        "gnb_tpr = {}\n",
        "gnb_roc_auc = {}\n",
        "for i in range(len(class_feature_values)):\n",
        "    gnb_fpr[i], gnb_tpr[i], _ = roc_curve(y_test_bin[:, i], gnb_y_proba[:, i])\n",
        "\n",
        "gnb_fpr_micro, gnb_tpr_micro, _ = roc_curve(y_test_bin.ravel(), gnb_y_proba.ravel())\n",
        "gnb_roc_auc_micro = auc(gnb_fpr_micro, gnb_tpr_micro)\n",
        "\n",
        "plt.figure()\n",
        "plt.plot(dt_fpr_micro, dt_tpr_micro, label=f'Decision Tree (AUC = {dt_roc_auc_micro:.2f})')\n",
        "plt.plot(kNN_fpr_micro, kNN_tpr_micro, label=f'kNN (AUC = {kNN_roc_auc_micro:.2f})')\n",
        "plt.plot(gnb_fpr_micro, gnb_tpr_micro, label=f'Naive Bayes (AUC = {gnb_roc_auc_micro:.2f})')\n",
        "plt.plot([0, 1], [0, 1], 'k--', label=\"No Skill\")\n",
        "plt.xlabel(\"False Positive Rate\")\n",
        "plt.ylabel(\"True Positive Rate\")\n",
        "plt.title(\"ROC Curve for classification results\")\n",
        "plt.legend(loc=\"lower right\")\n",
        "plt.show()"
      ],
      "metadata": {
        "id": "S2GaZxxbIck_",
        "outputId": "480f7033-2d11-4358-8945-aed7a857604b",
        "colab": {
          "base_uri": "https://localhost:8080/",
          "height": 472
        }
      },
      "execution_count": 37,
      "outputs": [
        {
          "output_type": "display_data",
          "data": {
            "text/plain": [
              "<Figure size 640x480 with 1 Axes>"
            ],
            "image/png": "[encoded data removed]"
          },
          "metadata": {}
        }
      ]
    },
    {
      "cell_type": "markdown",
      "source": [
        "\n",
        "\n",
        "---\n",
        "\n"
      ],
      "metadata": {
        "id": "-cmKG9XOCBsD"
      }
    },
    {
      "cell_type": "markdown",
      "source": [
        "#Task 2.\n",
        "For the dataset2 concerning whether transactions of credit cards are fraudulent or not."
      ],
      "metadata": {
        "id": "BMIqzd_gyJm-"
      }
    },
    {
      "cell_type": "markdown",
      "source": [
        "#Task 2.1. Load dataset2 and apply approriate preprocessing techniques to the dataset2"
      ],
      "metadata": {
        "id": "gVkSSfK8-_54"
      }
    },
    {
      "cell_type": "code",
      "source": [
        "#code\n",
        "dataset2 = pd.read_csv(\"dataset2.csv\")\n",
        "dataset2['Class'].value_counts().plot(kind='bar')\n",
        "plt.title('Dataset 2')\n",
        "plt.xlabel(\"Column 'Class' values\")\n",
        "plt.ylabel(\"Number of value\")\n",
        "plt.show()"
      ],
      "metadata": {
        "id": "MvrVND10yLSh",
        "colab": {
          "base_uri": "https://localhost:8080/",
          "height": 467
        },
        "outputId": "5a0fb0b9-b781-4998-8b91-258c85e6977b"
      },
      "execution_count": 30,
      "outputs": [
        {
          "output_type": "display_data",
          "data": {
            "text/plain": [
              "<Figure size 640x480 with 1 Axes>"
            ],
            "image/png": "[encoded data removed]"
          },
          "metadata": {}
        }
      ]
    },
    {
      "cell_type": "markdown",
      "source": [
        "#Task 2.2. Apply decision tree algorithm to the preprocessed dataset in the Task 2.1."
      ],
      "metadata": {
        "id": "1irTuVDo_Lig"
      }
    },
    {
      "cell_type": "code",
      "source": [
        "#code"
      ],
      "metadata": {
        "id": "BCLOqnBC_SkE"
      },
      "execution_count": null,
      "outputs": []
    },
    {
      "cell_type": "markdown",
      "source": [
        "#Task 2.3. Apply KNN algorithm to the preprocessed dataset in the Task 2.1."
      ],
      "metadata": {
        "id": "zS_E2Kej_TQc"
      }
    },
    {
      "cell_type": "code",
      "source": [
        "#code"
      ],
      "metadata": {
        "id": "skbzab1U_dNN"
      },
      "execution_count": null,
      "outputs": []
    },
    {
      "cell_type": "markdown",
      "source": [
        "##Task 2.4. Apply RandomForest to the preprocessed dataset in the Task 2.1."
      ],
      "metadata": {
        "id": "gaL3dj3L_euy"
      }
    },
    {
      "cell_type": "code",
      "source": [
        "#code"
      ],
      "metadata": {
        "id": "_Sw8vpGs_iRs"
      },
      "execution_count": null,
      "outputs": []
    },
    {
      "cell_type": "markdown",
      "source": [
        "#Task 2.5. Plot ROC curve and report the AUC values for classification results on test set in Task2.2, Task 2.3 and Task 2.4."
      ],
      "metadata": {
        "id": "P2IOJLak_xj6"
      }
    },
    {
      "cell_type": "code",
      "source": [
        "#code"
      ],
      "metadata": {
        "id": "w4X5D3yjANH7"
      },
      "execution_count": null,
      "outputs": []
    },
    {
      "cell_type": "markdown",
      "source": [
        "#Task 2.6. Apply Oversampling technique to the preprocessed dataset in the Task 2.1."
      ],
      "metadata": {
        "id": "G2SwRJD9_kHv"
      }
    },
    {
      "cell_type": "code",
      "source": [
        "#code"
      ],
      "metadata": {
        "id": "MSbhrLJI_t0D"
      },
      "execution_count": null,
      "outputs": []
    },
    {
      "cell_type": "markdown",
      "source": [
        "#Task 2.7. Apply RandomForest, Decision Tree, kNN to preprocessed dataset in Task 2.6. Then report the performance of models using PrettyTable"
      ],
      "metadata": {
        "id": "cMPObedlBJ3x"
      }
    },
    {
      "cell_type": "code",
      "source": [
        "#code"
      ],
      "metadata": {
        "id": "BH-oubxeBNIV"
      },
      "execution_count": null,
      "outputs": []
    },
    {
      "cell_type": "markdown",
      "source": [
        "#Task 2.8. Apply Undersampling technique to the preprocessed dataset in the Task 2.1."
      ],
      "metadata": {
        "id": "MoZZKMxxAR_Q"
      }
    },
    {
      "cell_type": "code",
      "source": [
        "#code"
      ],
      "metadata": {
        "id": "gFDXAs1DAWUt"
      },
      "execution_count": null,
      "outputs": []
    },
    {
      "cell_type": "markdown",
      "source": [
        "#Task 2.9. Apply RandomForest, Decision Tree, kNN to preprocessed dataset in Task 2.8. Then report the performance of models using PrettyTable"
      ],
      "metadata": {
        "id": "YGpaHSV3BCRo"
      }
    },
    {
      "cell_type": "code",
      "source": [
        "#code"
      ],
      "metadata": {
        "id": "bZ5QKvqXBFOJ"
      },
      "execution_count": null,
      "outputs": []
    },
    {
      "cell_type": "markdown",
      "source": [
        "#Task 2.10. Apply SMOTE technique to the preprocessed dataset in the Task 2.1."
      ],
      "metadata": {
        "id": "Qz1y5VmvAZOq"
      }
    },
    {
      "cell_type": "code",
      "source": [
        "#code"
      ],
      "metadata": {
        "id": "QlehfT0xA8jz"
      },
      "execution_count": null,
      "outputs": []
    },
    {
      "cell_type": "markdown",
      "source": [
        "#Task 2.11. Apply RandomForest, Decision Tree, kNN to preprocessed dataset in Task 2.10. Then report the performance of models using PrettyTable"
      ],
      "metadata": {
        "id": "sV-0t41HA96j"
      }
    },
    {
      "cell_type": "code",
      "source": [
        "#code"
      ],
      "metadata": {
        "id": "d6Fs_yK8AXbo"
      },
      "execution_count": null,
      "outputs": []
    },
    {
      "cell_type": "markdown",
      "source": [
        "#Task 2.12. Plot ROC curve and report the AUC values for the best models found in Task2.7, Task 2.9 and Task 2.11 on test set."
      ],
      "metadata": {
        "id": "98b8e9IiBoP4"
      }
    },
    {
      "cell_type": "code",
      "source": [
        "#code"
      ],
      "metadata": {
        "id": "T54g37-rB7K0"
      },
      "execution_count": null,
      "outputs": []
    }
  ]
}